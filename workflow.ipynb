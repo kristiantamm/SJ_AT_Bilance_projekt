{
 "cells": [
  {
   "cell_type": "code",
   "execution_count": 47,
   "id": "2b60e78d-fa97-4b7a-b326-f08d252fe8e2",
   "metadata": {},
   "outputs": [],
   "source": [
    "import pandas as pd\n",
    "\n",
    "data = pd.read_csv(\"groceriesSynthetic.tsv\", sep = \"\\t\")\n",
    "df = pd.DataFrame(data)\n",
    "df_original = pd.DataFrame(data)"
   ]
  },
  {
   "cell_type": "code",
   "execution_count": 48,
   "id": "12e41cbb-6c41-410b-bb8a-49fd75f97e57",
   "metadata": {},
   "outputs": [
    {
     "name": "stdout",
     "output_type": "stream",
     "text": [
      "False\n"
     ]
    }
   ],
   "source": [
    "#Checking if all the values in currency are EUR\n",
    "print(df[\"currency\"].nunique() == \"EUR\")"
   ]
  },
  {
   "cell_type": "code",
   "execution_count": 49,
   "id": "8f5c233a-1100-466e-8b7d-9620f961cdd8",
   "metadata": {},
   "outputs": [
    {
     "name": "stdout",
     "output_type": "stream",
     "text": [
      "         id formattedDate               merchantName  \\\n",
      "804     704    06-03-2023                        NaN   \n",
      "1362   1384    25-06-2023                        NaN   \n",
      "1806   1381    04-04-2023                        NaN   \n",
      "2530     18    16-03-2023                        NaN   \n",
      "3066   1110    01-12-2022                        NaN   \n",
      "...     ...           ...                        ...   \n",
      "96983   477    15-04-2023                        NaN   \n",
      "97047  1763    16-08-2023                        NaN   \n",
      "97815  1218    05-06-2023                        NaN   \n",
      "97902  1446    30-08-2023                        NaN   \n",
      "99425   985    15-07-2023  TALLINN anyone Debrashire   \n",
      "\n",
      "                                          remittanceInfo   value currency  \n",
      "804    292384******9276 either JARVE SELVERI ISETEENI...  -10.74      USD  \n",
      "1362   (..3895) carry any WoltItaemerenkatu somebody new    -5.7      SEK  \n",
      "1806   (..6464) always sign protect everybody improve...  -22.44      SEK  \n",
      "2530   (..5274) scene prepare ICA AB/PARNU RIMI old d...  -34.07      USD  \n",
      "3066   999293******7961 traditional phone RIMI no thr...  -22.28      CAD  \n",
      "...                                                  ...     ...      ...  \n",
      "96983  023192******2771 audience near KONSUM ISETEEN ...   -1.09      GBP  \n",
      "97047  958082******5941 phone RIMI/HIIU RIMI SM ISETE...   -1.59      THB  \n",
      "97815  606650******0484 each ICA particularly RIMITAM...    -7.4      SEK  \n",
      "97902  (..3332) knowledge toward election TURU ago 1 ...  -13.48      SEK  \n",
      "99425   605783******0065 scientist face industry TALLINN   -6.49      THB  \n",
      "\n",
      "[198 rows x 6 columns]\n"
     ]
    }
   ],
   "source": [
    "rows_with_other_currencies = df[df[\"currency\"] != \"EUR\"]\n",
    "print(rows_with_other_currencies)"
   ]
  },
  {
   "cell_type": "code",
   "execution_count": 50,
   "id": "ed3f5b8b-e649-422f-8689-908a70572d18",
   "metadata": {},
   "outputs": [
    {
     "name": "stdout",
     "output_type": "stream",
     "text": [
      "Requirement already satisfied: CurrencyConverter in c:\\users\\tammk\\appdata\\local\\programs\\python\\python310\\lib\\site-packages (0.17.13)\n",
      "Note: you may need to restart the kernel to use updated packages.\n"
     ]
    }
   ],
   "source": [
    "pip install CurrencyConverter"
   ]
  },
  {
   "cell_type": "code",
   "execution_count": 51,
   "id": "af51a046-7b31-42c1-9871-574d46a076e3",
   "metadata": {},
   "outputs": [],
   "source": [
    "from currency_converter import CurrencyConverter\n",
    "\n",
    "c = CurrencyConverter()\n",
    "\n",
    "def currency_to_EUR(value, currency):\n",
    "    if currency != \"EUR\":\n",
    "        try:\n",
    "            conversion = c.convert(value, currency, \"EUR\")\n",
    "            return round(conversion, 2)\n",
    "        except Exception as e:\n",
    "            print(f\"Error converting {value} {currency} to EUR: {e}\")\n",
    "    return value\n",
    "\n",
    "df[\"value\"] = df.apply(lambda row: currency_to_EUR(row[\"value\"], row[\"currency\"]), axis=1)"
   ]
  },
  {
   "cell_type": "code",
   "execution_count": 52,
   "id": "fbea1ef5-ddd9-4492-8957-b2c901f29fa8",
   "metadata": {},
   "outputs": [
    {
     "name": "stdout",
     "output_type": "stream",
     "text": [
      "         id formattedDate               merchantName  \\\n",
      "804     704    06-03-2023                        NaN   \n",
      "1362   1384    25-06-2023                        NaN   \n",
      "1806   1381    04-04-2023                        NaN   \n",
      "2530     18    16-03-2023                        NaN   \n",
      "3066   1110    01-12-2022                        NaN   \n",
      "...     ...           ...                        ...   \n",
      "96983   477    15-04-2023                        NaN   \n",
      "97047  1763    16-08-2023                        NaN   \n",
      "97815  1218    05-06-2023                        NaN   \n",
      "97902  1446    30-08-2023                        NaN   \n",
      "99425   985    15-07-2023  TALLINN anyone Debrashire   \n",
      "\n",
      "                                          remittanceInfo  value currency  \n",
      "804    292384******9276 either JARVE SELVERI ISETEENI... -10.06      USD  \n",
      "1362   (..3895) carry any WoltItaemerenkatu somebody new  -0.49      SEK  \n",
      "1806   (..6464) always sign protect everybody improve...  -1.93      SEK  \n",
      "2530   (..5274) scene prepare ICA AB/PARNU RIMI old d... -31.93      USD  \n",
      "3066   999293******7961 traditional phone RIMI no thr... -15.15      CAD  \n",
      "...                                                  ...    ...      ...  \n",
      "96983  023192******2771 audience near KONSUM ISETEEN ...  -1.25      GBP  \n",
      "97047  958082******5941 phone RIMI/HIIU RIMI SM ISETE...  -0.04      THB  \n",
      "97815  606650******0484 each ICA particularly RIMITAM...  -0.63      SEK  \n",
      "97902  (..3332) knowledge toward election TURU ago 1 ...  -1.16      SEK  \n",
      "99425   605783******0065 scientist face industry TALLINN  -0.17      THB  \n",
      "\n",
      "[198 rows x 6 columns]\n"
     ]
    }
   ],
   "source": [
    "rows_with_other_currencies = df[df[\"currency\"] != \"EUR\"]\n",
    "print(rows_with_other_currencies)"
   ]
  },
  {
   "cell_type": "code",
   "execution_count": 53,
   "id": "dd27847c-7a34-42a1-a114-ec58d732f6ec",
   "metadata": {},
   "outputs": [],
   "source": [
    "df = df.drop(columns=\"currency\")"
   ]
  },
  {
   "cell_type": "code",
   "execution_count": 54,
   "id": "f350fce1-ac55-4367-9606-d6493f3299f5",
   "metadata": {},
   "outputs": [],
   "source": [
    "def findMerchant(x):\n",
    "    if isinstance(x, str):\n",
    "        mer = \"\"\n",
    "        li = x.split()\n",
    "        i = 0\n",
    "        while li[i].isupper():\n",
    "            mer + \" \" + li[i]\n",
    "        return mer"
   ]
  },
  {
   "cell_type": "code",
   "execution_count": 55,
   "id": "d8d57ff8-64c5-4f24-878d-d1876cc5d3e4",
   "metadata": {},
   "outputs": [
    {
     "name": "stdout",
     "output_type": "stream",
     "text": [
      "['MAKSIMARK', 'OU', 'RIMI', 'SELVER', 'KAUPLUS', 'KAUBAMAJA', 'KONSUM', 'AS', 'MAXIMA', 'VALD', 'POOD', 'COOP', 'TOIDUKAUBAD', 'TALLINN', 'R-KIOSK', 'PRISMA', 'ISETEEN', 'OÜ', 'A', 'STOCKMANN', 'LIDL', 'KESKUS', 'GROSSI', 'TURU', 'ICA', 'TURG', 'ISETEENINDUS', 'MAKSEKESKUS', 'PAIDE', 'MEIE', 'KURESSAARE', 'MARKET', 'TARTU', 'WWW.RIMI.EE', 'A&O', 'R', 'VIRU', 'KARDLA', 'VILJANDI', 'PARNU', 'NARVA', 'KRISTIINE', 'JOHVI', 'BOLT', 'NARVESEN', 'KOHTLA-JARVE', 'TOIT', 'POLVA', 'MAARDU', 'SIKUPILLI', 'ROCCA', 'EEDEN', 'PUHVET', 'GET', 'BLOOM', 'APOLLO']\n"
     ]
    }
   ],
   "source": [
    "#finding all the merchants in the merchantName column\n",
    "merchantsFromDf = df[\"merchantName\"].apply(lambda x: x.split()[0] if isinstance(x, str) and x.split()[0].isupper() else None).dropna().unique().tolist()\n",
    "print(merchantsFromDf)"
   ]
  },
  {
   "cell_type": "code",
   "execution_count": 56,
   "id": "baaf3631-94c8-46c8-b72d-bacff0218dae",
   "metadata": {},
   "outputs": [],
   "source": [
    "finalMerchantList = ['MAKSIMARK', 'MAKSIMARKET','RIMI','KAUBAMAJA','SELVER', 'KONSUM','MAXIMA', 'COOP','PRISMA','STOCKMANN','LIDL', 'GROSSI', 'ICA', 'MEIE TOIDUKAUBAD',\n",
    "                    'A&O', 'BOLT MARKET', 'SIKUPILLI', 'BLOOM']"
   ]
  },
  {
   "cell_type": "code",
   "execution_count": 57,
   "id": "fa17a75b-05cf-47c6-b51d-e8b58478b6b2",
   "metadata": {},
   "outputs": [],
   "source": [
    "def process_merchant_name_column(row):\n",
    "    if pd.isnull(row[\"merchantName\"]):\n",
    "        for merchant in finalMerchantList:\n",
    "            if merchant in row[\"remittanceInfo\"].upper():\n",
    "                return merchant\n",
    "    else:\n",
    "        list = row[\"merchantName\"].split()\n",
    "        if list[0].isupper() and list[0] in finalMerchantList:\n",
    "            return list[0]\n",
    "        else:\n",
    "            return None"
   ]
  },
  {
   "cell_type": "code",
   "execution_count": 58,
   "id": "15fec2bf-6231-411f-ad7c-2340734788d2",
   "metadata": {},
   "outputs": [],
   "source": [
    "df[\"merchantName\"] = df.apply(process_merchant_name_column, axis=1)"
   ]
  },
  {
   "cell_type": "code",
   "execution_count": 59,
   "id": "46177dee-9423-4118-9188-75b4b2ec331e",
   "metadata": {},
   "outputs": [],
   "source": [
    "df = df.dropna(subset=['merchantName'])"
   ]
  },
  {
   "cell_type": "code",
   "execution_count": 60,
   "id": "e628c065-8fbf-44d7-9d38-e97cf1fdbe6d",
   "metadata": {},
   "outputs": [
    {
     "data": {
      "text/html": [
       "<div>\n",
       "<style scoped>\n",
       "    .dataframe tbody tr th:only-of-type {\n",
       "        vertical-align: middle;\n",
       "    }\n",
       "\n",
       "    .dataframe tbody tr th {\n",
       "        vertical-align: top;\n",
       "    }\n",
       "\n",
       "    .dataframe thead th {\n",
       "        text-align: right;\n",
       "    }\n",
       "</style>\n",
       "<table border=\"1\" class=\"dataframe\">\n",
       "  <thead>\n",
       "    <tr style=\"text-align: right;\">\n",
       "      <th></th>\n",
       "      <th>id</th>\n",
       "      <th>formattedDate</th>\n",
       "      <th>merchantName</th>\n",
       "      <th>remittanceInfo</th>\n",
       "      <th>value</th>\n",
       "    </tr>\n",
       "  </thead>\n",
       "  <tbody>\n",
       "    <tr>\n",
       "      <th>0</th>\n",
       "      <td>1269</td>\n",
       "      <td>24-07-2023</td>\n",
       "      <td>MAKSIMARK</td>\n",
       "      <td>567176******6366 toward information MAKSIMARKE...</td>\n",
       "      <td>-13.59</td>\n",
       "    </tr>\n",
       "    <tr>\n",
       "      <th>1</th>\n",
       "      <td>319</td>\n",
       "      <td>14-06-2023</td>\n",
       "      <td>LIDL</td>\n",
       "      <td>157466******5153 pay LIDL own TARTU sound behi...</td>\n",
       "      <td>-0.89</td>\n",
       "    </tr>\n",
       "    <tr>\n",
       "      <th>3</th>\n",
       "      <td>1340</td>\n",
       "      <td>20-02-2023</td>\n",
       "      <td>MAKSIMARK</td>\n",
       "      <td>24/04/1997 resource kaart...878232 VILJANDI MA...</td>\n",
       "      <td>-12.9</td>\n",
       "    </tr>\n",
       "    <tr>\n",
       "      <th>6</th>\n",
       "      <td>400</td>\n",
       "      <td>10-03-2023</td>\n",
       "      <td>ICA</td>\n",
       "      <td>551163******9009 which ICA AB/TARTU LOUNAKESK ...</td>\n",
       "      <td>-5.1</td>\n",
       "    </tr>\n",
       "    <tr>\n",
       "      <th>7</th>\n",
       "      <td>1310</td>\n",
       "      <td>04-01-2023</td>\n",
       "      <td>MAXIMA</td>\n",
       "      <td>Kaart:411726******8003 human seven community a...</td>\n",
       "      <td>-17.35</td>\n",
       "    </tr>\n",
       "    <tr>\n",
       "      <th>8</th>\n",
       "      <td>184</td>\n",
       "      <td>07-09-2023</td>\n",
       "      <td>RIMI</td>\n",
       "      <td>576266******5911 return RIMI/TATARI RIMI ISETE...</td>\n",
       "      <td>-4.28</td>\n",
       "    </tr>\n",
       "    <tr>\n",
       "      <th>9</th>\n",
       "      <td>1292</td>\n",
       "      <td>09-01-2023</td>\n",
       "      <td>KONSUM</td>\n",
       "      <td>368085******4980 difficult act KONSUM ISETEENI...</td>\n",
       "      <td>5</td>\n",
       "    </tr>\n",
       "    <tr>\n",
       "      <th>11</th>\n",
       "      <td>535</td>\n",
       "      <td>09-05-2023</td>\n",
       "      <td>SELVER</td>\n",
       "      <td>29/05/1985 traditional kaart...609240 huge SEL...</td>\n",
       "      <td>-21.86</td>\n",
       "    </tr>\n",
       "    <tr>\n",
       "      <th>14</th>\n",
       "      <td>690</td>\n",
       "      <td>05-03-2023</td>\n",
       "      <td>KONSUM</td>\n",
       "      <td>146990******6058 light IHASTE KONSUM marriage ...</td>\n",
       "      <td>-1.29</td>\n",
       "    </tr>\n",
       "    <tr>\n",
       "      <th>17</th>\n",
       "      <td>322</td>\n",
       "      <td>01-07-2022</td>\n",
       "      <td>SELVER</td>\n",
       "      <td>(..1988) short simply stand SELVER ISETEENINSO...</td>\n",
       "      <td>-34.08</td>\n",
       "    </tr>\n",
       "    <tr>\n",
       "      <th>18</th>\n",
       "      <td>525</td>\n",
       "      <td>26-08-2023</td>\n",
       "      <td>RIMI</td>\n",
       "      <td>23/07/1973 half kaart...710047 RIMI/VILJANDI d...</td>\n",
       "      <td>-23.08</td>\n",
       "    </tr>\n",
       "    <tr>\n",
       "      <th>21</th>\n",
       "      <td>1065</td>\n",
       "      <td>04-07-2023</td>\n",
       "      <td>RIMI</td>\n",
       "      <td>114088******7776 mind ICA paper RIMI H else TA...</td>\n",
       "      <td>-28.11</td>\n",
       "    </tr>\n",
       "    <tr>\n",
       "      <th>22</th>\n",
       "      <td>1853</td>\n",
       "      <td>02-08-2023</td>\n",
       "      <td>RIMI</td>\n",
       "      <td>650344******0573 do ICA six RIMI road 64TALLINN10</td>\n",
       "      <td>-6.43</td>\n",
       "    </tr>\n",
       "    <tr>\n",
       "      <th>23</th>\n",
       "      <td>348</td>\n",
       "      <td>28-04-2023</td>\n",
       "      <td>SELVER</td>\n",
       "      <td>328900******4997 door together SELVER ISETEENI...</td>\n",
       "      <td>-9.07</td>\n",
       "    </tr>\n",
       "    <tr>\n",
       "      <th>26</th>\n",
       "      <td>868</td>\n",
       "      <td>17-08-2023</td>\n",
       "      <td>SELVER</td>\n",
       "      <td>17/04/1980 like kaart...929592 great SELVERI I...</td>\n",
       "      <td>-14.39</td>\n",
       "    </tr>\n",
       "    <tr>\n",
       "      <th>27</th>\n",
       "      <td>1703</td>\n",
       "      <td>04-01-2023</td>\n",
       "      <td>RIMI</td>\n",
       "      <td>(..5005) myself example REMA response nation c...</td>\n",
       "      <td>-16.21</td>\n",
       "    </tr>\n",
       "    <tr>\n",
       "      <th>28</th>\n",
       "      <td>1781</td>\n",
       "      <td>25-03-2023</td>\n",
       "      <td>KAUBAMAJA</td>\n",
       "      <td>230764******1689 low KAUBAMAJA TARTU leader TA...</td>\n",
       "      <td>-6.68</td>\n",
       "    </tr>\n",
       "    <tr>\n",
       "      <th>29</th>\n",
       "      <td>1817</td>\n",
       "      <td>12-07-2023</td>\n",
       "      <td>RIMI</td>\n",
       "      <td>01/10/2009 age kaart...223453 good RIMI painti...</td>\n",
       "      <td>-11.93</td>\n",
       "    </tr>\n",
       "    <tr>\n",
       "      <th>31</th>\n",
       "      <td>369</td>\n",
       "      <td>11-04-2023</td>\n",
       "      <td>PRISMA</td>\n",
       "      <td>614921******6876 test Prisma Kristiine Kesku e...</td>\n",
       "      <td>-4.59</td>\n",
       "    </tr>\n",
       "    <tr>\n",
       "      <th>32</th>\n",
       "      <td>828</td>\n",
       "      <td>14-12-2022</td>\n",
       "      <td>SELVER</td>\n",
       "      <td>(..0107) late paper who SELVER onto employee T...</td>\n",
       "      <td>-11.56</td>\n",
       "    </tr>\n",
       "  </tbody>\n",
       "</table>\n",
       "</div>"
      ],
      "text/plain": [
       "      id formattedDate merchantName  \\\n",
       "0   1269    24-07-2023    MAKSIMARK   \n",
       "1    319    14-06-2023         LIDL   \n",
       "3   1340    20-02-2023    MAKSIMARK   \n",
       "6    400    10-03-2023          ICA   \n",
       "7   1310    04-01-2023       MAXIMA   \n",
       "8    184    07-09-2023         RIMI   \n",
       "9   1292    09-01-2023       KONSUM   \n",
       "11   535    09-05-2023       SELVER   \n",
       "14   690    05-03-2023       KONSUM   \n",
       "17   322    01-07-2022       SELVER   \n",
       "18   525    26-08-2023         RIMI   \n",
       "21  1065    04-07-2023         RIMI   \n",
       "22  1853    02-08-2023         RIMI   \n",
       "23   348    28-04-2023       SELVER   \n",
       "26   868    17-08-2023       SELVER   \n",
       "27  1703    04-01-2023         RIMI   \n",
       "28  1781    25-03-2023    KAUBAMAJA   \n",
       "29  1817    12-07-2023         RIMI   \n",
       "31   369    11-04-2023       PRISMA   \n",
       "32   828    14-12-2022       SELVER   \n",
       "\n",
       "                                       remittanceInfo   value  \n",
       "0   567176******6366 toward information MAKSIMARKE...  -13.59  \n",
       "1   157466******5153 pay LIDL own TARTU sound behi...   -0.89  \n",
       "3   24/04/1997 resource kaart...878232 VILJANDI MA...   -12.9  \n",
       "6   551163******9009 which ICA AB/TARTU LOUNAKESK ...    -5.1  \n",
       "7   Kaart:411726******8003 human seven community a...  -17.35  \n",
       "8   576266******5911 return RIMI/TATARI RIMI ISETE...   -4.28  \n",
       "9   368085******4980 difficult act KONSUM ISETEENI...       5  \n",
       "11  29/05/1985 traditional kaart...609240 huge SEL...  -21.86  \n",
       "14  146990******6058 light IHASTE KONSUM marriage ...   -1.29  \n",
       "17  (..1988) short simply stand SELVER ISETEENINSO...  -34.08  \n",
       "18  23/07/1973 half kaart...710047 RIMI/VILJANDI d...  -23.08  \n",
       "21  114088******7776 mind ICA paper RIMI H else TA...  -28.11  \n",
       "22  650344******0573 do ICA six RIMI road 64TALLINN10   -6.43  \n",
       "23  328900******4997 door together SELVER ISETEENI...   -9.07  \n",
       "26  17/04/1980 like kaart...929592 great SELVERI I...  -14.39  \n",
       "27  (..5005) myself example REMA response nation c...  -16.21  \n",
       "28  230764******1689 low KAUBAMAJA TARTU leader TA...   -6.68  \n",
       "29  01/10/2009 age kaart...223453 good RIMI painti...  -11.93  \n",
       "31  614921******6876 test Prisma Kristiine Kesku e...   -4.59  \n",
       "32  (..0107) late paper who SELVER onto employee T...  -11.56  "
      ]
     },
     "execution_count": 60,
     "metadata": {},
     "output_type": "execute_result"
    }
   ],
   "source": [
    "df.head(20)"
   ]
  },
  {
   "cell_type": "code",
   "execution_count": 61,
   "id": "0fa32e50-e9a5-49e5-8684-1aac7e083af4",
   "metadata": {},
   "outputs": [
    {
     "data": {
      "text/plain": [
       "(66667, 5)"
      ]
     },
     "execution_count": 61,
     "metadata": {},
     "output_type": "execute_result"
    }
   ],
   "source": [
    "df.shape"
   ]
  },
  {
   "cell_type": "code",
   "execution_count": 62,
   "id": "11967232-e251-408c-b855-8987be6619d2",
   "metadata": {},
   "outputs": [
    {
     "name": "stdout",
     "output_type": "stream",
     "text": [
      "Empty DataFrame\n",
      "Columns: [id, formattedDate, merchantName, remittanceInfo, value]\n",
      "Index: []\n"
     ]
    }
   ],
   "source": [
    "print(df[df[\"merchantName\"]==\"KURESSAARE\"])"
   ]
  },
  {
   "cell_type": "code",
   "execution_count": null,
   "id": "18d86e7d-9600-49f2-a99e-52fde6986105",
   "metadata": {},
   "outputs": [],
   "source": []
  }
 ],
 "metadata": {
  "kernelspec": {
   "display_name": "Python 3 (ipykernel)",
   "language": "python",
   "name": "python3"
  },
  "language_info": {
   "codemirror_mode": {
    "name": "ipython",
    "version": 3
   },
   "file_extension": ".py",
   "mimetype": "text/x-python",
   "name": "python",
   "nbconvert_exporter": "python",
   "pygments_lexer": "ipython3",
   "version": "3.10.0"
  }
 },
 "nbformat": 4,
 "nbformat_minor": 5
}
