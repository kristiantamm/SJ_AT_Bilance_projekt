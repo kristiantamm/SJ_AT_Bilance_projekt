{
 "cells": [
  {
   "cell_type": "code",
   "execution_count": 1,
   "id": "2b60e78d-fa97-4b7a-b326-f08d252fe8e2",
   "metadata": {},
   "outputs": [],
   "source": [
    "import pandas as pd\n",
    "\n",
    "data = pd.read_csv(\"groceriesSynthetic.tsv\", sep = \"\\t\")\n",
    "df = pd.DataFrame(data)\n",
    "df_original = pd.DataFrame(data)"
   ]
  },
  {
   "cell_type": "code",
   "execution_count": 2,
   "id": "12e41cbb-6c41-410b-bb8a-49fd75f97e57",
   "metadata": {},
   "outputs": [
    {
     "name": "stdout",
     "output_type": "stream",
     "text": [
      "False\n"
     ]
    }
   ],
   "source": [
    "#Checking if all the values in currency are EUR\n",
    "print(df[\"currency\"].nunique() == \"EUR\")"
   ]
  },
  {
   "cell_type": "code",
   "execution_count": 3,
   "id": "8f5c233a-1100-466e-8b7d-9620f961cdd8",
   "metadata": {},
   "outputs": [
    {
     "name": "stdout",
     "output_type": "stream",
     "text": [
      "         id formattedDate               merchantName  \\\n",
      "804     704    06-03-2023                        NaN   \n",
      "1362   1384    25-06-2023                        NaN   \n",
      "1806   1381    04-04-2023                        NaN   \n",
      "2530     18    16-03-2023                        NaN   \n",
      "3066   1110    01-12-2022                        NaN   \n",
      "...     ...           ...                        ...   \n",
      "96983   477    15-04-2023                        NaN   \n",
      "97047  1763    16-08-2023                        NaN   \n",
      "97815  1218    05-06-2023                        NaN   \n",
      "97902  1446    30-08-2023                        NaN   \n",
      "99425   985    15-07-2023  TALLINN anyone Debrashire   \n",
      "\n",
      "                                          remittanceInfo   value currency  \n",
      "804    292384******9276 either JARVE SELVERI ISETEENI...  -10.74      USD  \n",
      "1362   (..3895) carry any WoltItaemerenkatu somebody new    -5.7      SEK  \n",
      "1806   (..6464) always sign protect everybody improve...  -22.44      SEK  \n",
      "2530   (..5274) scene prepare ICA AB/PARNU RIMI old d...  -34.07      USD  \n",
      "3066   999293******7961 traditional phone RIMI no thr...  -22.28      CAD  \n",
      "...                                                  ...     ...      ...  \n",
      "96983  023192******2771 audience near KONSUM ISETEEN ...   -1.09      GBP  \n",
      "97047  958082******5941 phone RIMI/HIIU RIMI SM ISETE...   -1.59      THB  \n",
      "97815  606650******0484 each ICA particularly RIMITAM...    -7.4      SEK  \n",
      "97902  (..3332) knowledge toward election TURU ago 1 ...  -13.48      SEK  \n",
      "99425   605783******0065 scientist face industry TALLINN   -6.49      THB  \n",
      "\n",
      "[198 rows x 6 columns]\n"
     ]
    }
   ],
   "source": [
    "rows_with_other_currencies = df[df[\"currency\"] != \"EUR\"]\n",
    "print(rows_with_other_currencies)"
   ]
  },
  {
   "cell_type": "code",
   "execution_count": 4,
   "id": "ed3f5b8b-e649-422f-8689-908a70572d18",
   "metadata": {},
   "outputs": [
    {
     "name": "stdout",
     "output_type": "stream",
     "text": [
      "Requirement already satisfied: CurrencyConverter in c:\\users\\tammk\\appdata\\local\\programs\\python\\python310\\lib\\site-packages (0.17.13)\n",
      "Note: you may need to restart the kernel to use updated packages.\n"
     ]
    }
   ],
   "source": [
    "pip install CurrencyConverter"
   ]
  },
  {
   "cell_type": "code",
   "execution_count": 5,
   "id": "9857157f-34a3-4ba8-927c-b8838a6d9fbf",
   "metadata": {},
   "outputs": [
    {
     "data": {
      "text/html": [
       "<div>\n",
       "<style scoped>\n",
       "    .dataframe tbody tr th:only-of-type {\n",
       "        vertical-align: middle;\n",
       "    }\n",
       "\n",
       "    .dataframe tbody tr th {\n",
       "        vertical-align: top;\n",
       "    }\n",
       "\n",
       "    .dataframe thead th {\n",
       "        text-align: right;\n",
       "    }\n",
       "</style>\n",
       "<table border=\"1\" class=\"dataframe\">\n",
       "  <thead>\n",
       "    <tr style=\"text-align: right;\">\n",
       "      <th></th>\n",
       "      <th>id</th>\n",
       "      <th>formattedDate</th>\n",
       "      <th>merchantName</th>\n",
       "      <th>remittanceInfo</th>\n",
       "      <th>value</th>\n",
       "      <th>currency</th>\n",
       "    </tr>\n",
       "  </thead>\n",
       "  <tbody>\n",
       "    <tr>\n",
       "      <th>0</th>\n",
       "      <td>1269</td>\n",
       "      <td>24-07-2023</td>\n",
       "      <td>NaN</td>\n",
       "      <td>567176******6366 toward information MAKSIMARKE...</td>\n",
       "      <td>-13.59</td>\n",
       "      <td>EUR</td>\n",
       "    </tr>\n",
       "    <tr>\n",
       "      <th>1</th>\n",
       "      <td>319</td>\n",
       "      <td>14-06-2023</td>\n",
       "      <td>NaN</td>\n",
       "      <td>157466******5153 pay LIDL own TARTU sound behi...</td>\n",
       "      <td>-0.89</td>\n",
       "      <td>EUR</td>\n",
       "    </tr>\n",
       "    <tr>\n",
       "      <th>2</th>\n",
       "      <td>981</td>\n",
       "      <td>28-10-2022</td>\n",
       "      <td>NaN</td>\n",
       "      <td>(..2754) politics garden property POHJAKESKUS ...</td>\n",
       "      <td>-1.68</td>\n",
       "      <td>EUR</td>\n",
       "    </tr>\n",
       "    <tr>\n",
       "      <th>3</th>\n",
       "      <td>1340</td>\n",
       "      <td>20-02-2023</td>\n",
       "      <td>MAKSIMARK small Port Kendrabury</td>\n",
       "      <td>24/04/1997 resource kaart...878232 VILJANDI MA...</td>\n",
       "      <td>-12.9</td>\n",
       "      <td>EUR</td>\n",
       "    </tr>\n",
       "    <tr>\n",
       "      <th>4</th>\n",
       "      <td>604</td>\n",
       "      <td>15-05-2023</td>\n",
       "      <td>OU rather Lake Jorgebury</td>\n",
       "      <td>14/05/1977 such kaart...983921 less OUe/Tallin...</td>\n",
       "      <td>-37.32</td>\n",
       "      <td>EUR</td>\n",
       "    </tr>\n",
       "  </tbody>\n",
       "</table>\n",
       "</div>"
      ],
      "text/plain": [
       "     id formattedDate                     merchantName  \\\n",
       "0  1269    24-07-2023                              NaN   \n",
       "1   319    14-06-2023                              NaN   \n",
       "2   981    28-10-2022                              NaN   \n",
       "3  1340    20-02-2023  MAKSIMARK small Port Kendrabury   \n",
       "4   604    15-05-2023         OU rather Lake Jorgebury   \n",
       "\n",
       "                                      remittanceInfo   value currency  \n",
       "0  567176******6366 toward information MAKSIMARKE...  -13.59      EUR  \n",
       "1  157466******5153 pay LIDL own TARTU sound behi...   -0.89      EUR  \n",
       "2  (..2754) politics garden property POHJAKESKUS ...   -1.68      EUR  \n",
       "3  24/04/1997 resource kaart...878232 VILJANDI MA...   -12.9      EUR  \n",
       "4  14/05/1977 such kaart...983921 less OUe/Tallin...  -37.32      EUR  "
      ]
     },
     "execution_count": 5,
     "metadata": {},
     "output_type": "execute_result"
    }
   ],
   "source": [
    "df.head()"
   ]
  },
  {
   "cell_type": "code",
   "execution_count": 6,
   "id": "af51a046-7b31-42c1-9871-574d46a076e3",
   "metadata": {},
   "outputs": [],
   "source": [
    "from currency_converter import CurrencyConverter\n",
    "\n",
    "c = CurrencyConverter()\n",
    "\n",
    "def currency_to_EUR(value, currency):\n",
    "    if currency != \"EUR\":\n",
    "        try:\n",
    "            conversion = c.convert(value, currency, \"EUR\")\n",
    "            return round(conversion, 2)\n",
    "        except Exception as e:\n",
    "            print(f\"Error converting {value} {currency} to EUR: {e}\")\n",
    "    return value\n",
    "\n",
    "df[\"value\"] = df.apply(lambda row: currency_to_EUR(row[\"value\"], row[\"currency\"]), axis=1)"
   ]
  },
  {
   "cell_type": "code",
   "execution_count": 7,
   "id": "fbea1ef5-ddd9-4492-8957-b2c901f29fa8",
   "metadata": {},
   "outputs": [
    {
     "name": "stdout",
     "output_type": "stream",
     "text": [
      "         id formattedDate               merchantName  \\\n",
      "804     704    06-03-2023                        NaN   \n",
      "1362   1384    25-06-2023                        NaN   \n",
      "1806   1381    04-04-2023                        NaN   \n",
      "2530     18    16-03-2023                        NaN   \n",
      "3066   1110    01-12-2022                        NaN   \n",
      "...     ...           ...                        ...   \n",
      "96983   477    15-04-2023                        NaN   \n",
      "97047  1763    16-08-2023                        NaN   \n",
      "97815  1218    05-06-2023                        NaN   \n",
      "97902  1446    30-08-2023                        NaN   \n",
      "99425   985    15-07-2023  TALLINN anyone Debrashire   \n",
      "\n",
      "                                          remittanceInfo  value currency  \n",
      "804    292384******9276 either JARVE SELVERI ISETEENI... -10.06      USD  \n",
      "1362   (..3895) carry any WoltItaemerenkatu somebody new  -0.49      SEK  \n",
      "1806   (..6464) always sign protect everybody improve...  -1.93      SEK  \n",
      "2530   (..5274) scene prepare ICA AB/PARNU RIMI old d... -31.93      USD  \n",
      "3066   999293******7961 traditional phone RIMI no thr... -15.15      CAD  \n",
      "...                                                  ...    ...      ...  \n",
      "96983  023192******2771 audience near KONSUM ISETEEN ...  -1.25      GBP  \n",
      "97047  958082******5941 phone RIMI/HIIU RIMI SM ISETE...  -0.04      THB  \n",
      "97815  606650******0484 each ICA particularly RIMITAM...  -0.63      SEK  \n",
      "97902  (..3332) knowledge toward election TURU ago 1 ...  -1.16      SEK  \n",
      "99425   605783******0065 scientist face industry TALLINN  -0.17      THB  \n",
      "\n",
      "[198 rows x 6 columns]\n"
     ]
    }
   ],
   "source": [
    "rows_with_other_currencies = df[df[\"currency\"] != \"EUR\"]\n",
    "print(rows_with_other_currencies)"
   ]
  },
  {
   "cell_type": "code",
   "execution_count": 8,
   "id": "dd27847c-7a34-42a1-a114-ec58d732f6ec",
   "metadata": {},
   "outputs": [],
   "source": [
    "df = df.drop(columns=\"currency\")"
   ]
  },
  {
   "cell_type": "code",
   "execution_count": 9,
   "id": "f350fce1-ac55-4367-9606-d6493f3299f5",
   "metadata": {},
   "outputs": [],
   "source": [
    "def findMerchant(x):\n",
    "    if isinstance(x, str):\n",
    "        mer = \"\"\n",
    "        li = x.split()\n",
    "        i = 0\n",
    "        while li[i].isupper():\n",
    "            mer + \" \" + li[i]\n",
    "        return mer"
   ]
  },
  {
   "cell_type": "code",
   "execution_count": 10,
   "id": "d8d57ff8-64c5-4f24-878d-d1876cc5d3e4",
   "metadata": {},
   "outputs": [
    {
     "name": "stdout",
     "output_type": "stream",
     "text": [
      "['MAKSIMARK', 'OU', 'RIMI', 'SELVER', 'KAUPLUS', 'KAUBAMAJA', 'KONSUM', 'AS', 'MAXIMA', 'VALD', 'POOD', 'COOP', 'TOIDUKAUBAD', 'TALLINN', 'R-KIOSK', 'PRISMA', 'ISETEEN', 'OÜ', 'A', 'STOCKMANN', 'LIDL', 'KESKUS', 'GROSSI', 'TURU', 'ICA', 'TURG', 'ISETEENINDUS', 'MAKSEKESKUS', 'PAIDE', 'MEIE', 'KURESSAARE', 'MARKET', 'TARTU', 'WWW.RIMI.EE', 'A&O', 'R', 'VIRU', 'KARDLA', 'VILJANDI', 'PARNU', 'NARVA', 'KRISTIINE', 'JOHVI', 'BOLT', 'NARVESEN', 'KOHTLA-JARVE', 'TOIT', 'POLVA', 'MAARDU', 'SIKUPILLI', 'ROCCA', 'EEDEN', 'PUHVET', 'GET', 'BLOOM', 'APOLLO']\n"
     ]
    }
   ],
   "source": [
    "#finding all the merchants in the merchantName column\n",
    "#merchantsFromDf = df[\"merchantName\"].apply(lambda x: findMerchant(x)).unique().tolist()\n",
    "merchantsFromDf = df[\"merchantName\"].apply(lambda x: x.split()[0] if isinstance(x, str) and x.split()[0].isupper() else None).dropna().unique().tolist()\n",
    "print(merchantsFromDf)"
   ]
  },
  {
   "cell_type": "code",
   "execution_count": 11,
   "id": "1f79aab5-f2eb-498b-a189-befc254935c3",
   "metadata": {},
   "outputs": [
    {
     "data": {
      "text/plain": [
       "['MAKSIMARK',\n",
       " 'RIMI',\n",
       " 'SELVER',\n",
       " 'KAUPLUS',\n",
       " 'KAUBAMAJA',\n",
       " 'KONSUM',\n",
       " 'MAXIMA',\n",
       " 'POOD',\n",
       " 'COOP',\n",
       " 'TOIDUKAUBAD',\n",
       " 'TALLINN',\n",
       " 'R-KIOSK',\n",
       " 'PRISMA',\n",
       " 'ISETEEN',\n",
       " 'STOCKMANN',\n",
       " 'LIDL',\n",
       " 'KESKUS',\n",
       " 'GROSSI',\n",
       " 'TURU',\n",
       " 'ICA',\n",
       " 'TURG',\n",
       " 'ISETEENINDUS',\n",
       " 'MAKSEKESKUS',\n",
       " 'PAIDE',\n",
       " 'MEIE',\n",
       " 'KURESSAARE',\n",
       " 'MARKET',\n",
       " 'TARTU',\n",
       " 'WWW.RIMI.EE',\n",
       " 'A&O',\n",
       " 'VIRU',\n",
       " 'KARDLA',\n",
       " 'VILJANDI',\n",
       " 'PARNU',\n",
       " 'NARVA',\n",
       " 'KRISTIINE',\n",
       " 'JOHVI',\n",
       " 'BOLT',\n",
       " 'NARVESEN',\n",
       " 'KOHTLA-JARVE',\n",
       " 'TOIT',\n",
       " 'POLVA',\n",
       " 'MAARDU',\n",
       " 'SIKUPILLI',\n",
       " 'ROCCA',\n",
       " 'EEDEN',\n",
       " 'PUHVET',\n",
       " 'GET',\n",
       " 'BLOOM',\n",
       " 'APOLLO']"
      ]
     },
     "execution_count": 11,
     "metadata": {},
     "output_type": "execute_result"
    }
   ],
   "source": [
    "# Võtsin ära praegu merchantide listist mõned elemendid, mille pärast tuli pärastisel filtreerimisel\n",
    "# mitu korda sama rida kuna nad sisaldasid mitut \"merchantit\" selle listi põhjal\n",
    "\n",
    "elementsToRemove = [\"OU\", \"AS\", \"VALD\", \"OÜ\", \"A\", \"R\"]\n",
    "\n",
    "for el in elementsToRemove:\n",
    "  merchantsFromDf.remove(el)\n",
    "\n",
    "merchantsFromDf"
   ]
  },
  {
   "cell_type": "code",
   "execution_count": 12,
   "id": "45204cb2-cf11-4fb5-8ec2-06d4bdf0be99",
   "metadata": {},
   "outputs": [
    {
     "name": "stdout",
     "output_type": "stream",
     "text": [
      "[1340, '20-02-2023', 'MAKSIMARK', '24/04/1997 resource kaart...878232 VILJANDI MAKSIMARKET/VILJANDIMAA,/EST carry', '-12.9']\n",
      "[1340, '20-02-2023', 'MARKET', '24/04/1997 resource kaart...878232 VILJANDI MAKSIMARKET/VILJANDIMAA,/EST carry', '-12.9']\n",
      "[1340, '20-02-2023', 'VILJANDI', '24/04/1997 resource kaart...878232 VILJANDI MAKSIMARKET/VILJANDIMAA,/EST carry', '-12.9']\n",
      "[604, '15-05-2023', 'TALLINN', '14/05/1977 such kaart...983921 less OUe/Tallinn/EST animal', '-37.32']\n",
      "[184, '07-09-2023', 'RIMI', '576266******5911 return RIMI/TATARI RIMI ISETE travel TALLINN', '-4.28']\n",
      "[184, '07-09-2023', 'TALLINN', '576266******5911 return RIMI/TATARI RIMI ISETE travel TALLINN', '-4.28']\n",
      "[535, '09-05-2023', 'SELVER', '29/05/1985 traditional kaart...609240 huge SELVERI ISETEENI/TALLINN/EST team', '-21.86']\n",
      "[535, '09-05-2023', 'TALLINN', '29/05/1985 traditional kaart...609240 huge SELVERI ISETEENI/TALLINN/EST team', '-21.86']\n",
      "[535, '09-05-2023', 'ISETEEN', '29/05/1985 traditional kaart...609240 huge SELVERI ISETEENI/TALLINN/EST team', '-21.86']\n",
      "[525, '26-08-2023', 'RIMI', '23/07/1973 half kaart...710047 RIMI/VILJANDI director RI/VILJANDIMAA,/EST go', '-23.08']\n",
      "[525, '26-08-2023', 'VILJANDI', '23/07/1973 half kaart...710047 RIMI/VILJANDI director RI/VILJANDIMAA,/EST go', '-23.08']\n",
      "[1176, '28-04-2023', 'NARVESEN', 'Narvesen garden', '-0.79']\n",
      "[389, '05-06-2023', 'TALLINN', '05/08/1972 follow kaart...826439 Prisma Sikupilli/TALLINNA/EST result', '-18.03']\n",
      "[389, '05-06-2023', 'PRISMA', '05/08/1972 follow kaart...826439 Prisma Sikupilli/TALLINNA/EST result', '-18.03']\n",
      "[389, '05-06-2023', 'SIKUPILLI', '05/08/1972 follow kaart...826439 Prisma Sikupilli/TALLINNA/EST result', '-18.03']\n",
      "[1750, '28-05-2023', 'KAUPLUS', '16/02/2013 now kaart...990465 RISTI KAUPLUS/RISTI parent hard', '-5.34']\n",
      "[868, '17-08-2023', 'SELVER', '17/04/1980 like kaart...929592 great SELVERI ISET/TALLINN/EST issue', '-14.39']\n",
      "[868, '17-08-2023', 'TALLINN', '17/04/1980 like kaart...929592 great SELVERI ISET/TALLINN/EST issue', '-14.39']\n",
      "[1781, '25-03-2023', 'KAUBAMAJA', '230764******1689 low KAUBAMAJA TARTU leader TARTUMAA, TAR', '-6.68']\n",
      "[1781, '25-03-2023', 'TARTU', '230764******1689 low KAUBAMAJA TARTU leader TARTUMAA, TAR', '-6.68']\n",
      "[1817, '12-07-2023', 'RIMI', '01/10/2009 age kaart...223453 good RIMI painting ISETE/TALLINN/EST including', '-11.93']\n",
      "[1817, '12-07-2023', 'TALLINN', '01/10/2009 age kaart...223453 good RIMI painting ISETE/TALLINN/EST including', '-11.93']\n",
      "[1111, '03-04-2023', 'TALLINN', '04/09/2004 kitchen kaart...153999 Prisma Kristiine Kesku/TALLINNA/EST control', '-22.63']\n",
      "[1111, '03-04-2023', 'PRISMA', '04/09/2004 kitchen kaart...153999 Prisma Kristiine Kesku/TALLINNA/EST control', '-22.63']\n",
      "[1111, '03-04-2023', 'KRISTIINE', '04/09/2004 kitchen kaart...153999 Prisma Kristiine Kesku/TALLINNA/EST control', '-22.63']\n",
      "[377, '28-07-2023', 'MAKSIMARK', '26/10/2005 both kaart...455285 EEDENI MAKSIMARKET/TARTU especially think', '-5.9']\n",
      "[377, '28-07-2023', 'MARKET', '26/10/2005 both kaart...455285 EEDENI MAKSIMARKET/TARTU especially think', '-5.9']\n",
      "[377, '28-07-2023', 'TARTU', '26/10/2005 both kaart...455285 EEDENI MAKSIMARKET/TARTU especially think', '-5.9']\n",
      "[377, '28-07-2023', 'EEDEN', '26/10/2005 both kaart...455285 EEDENI MAKSIMARKET/TARTU especially think', '-5.9']\n",
      "[324, '03-12-2022', 'SELVER', '20/10/1996 sea kaart...640384 man SELVER/TARTU summer item', '-23.77']\n",
      "[324, '03-12-2022', 'TARTU', '20/10/1996 sea kaart...640384 man SELVER/TARTU summer item', '-23.77']\n",
      "[1859, '15-02-2023', 'KAUBAMAJA', '15/04/2016 way kaart...002379 building KAUBAMAJAHAAPSA data', '-10.2']\n",
      "[479, '01-01-2023', 'KONSUM', '905621******2086 culture opportunity KONSUM ISETEENIN only process VALD', '-27.83']\n",
      "[479, '01-01-2023', 'ISETEEN', '905621******2086 culture opportunity KONSUM ISETEENIN only process VALD', '-27.83']\n",
      "[1714, '29-04-2022', 'KAUBAMAJA', '17/05/1990 man kaart...510006 KAUBAMAJA TALLINN/HARJUMAA, hand natural', '-1.79']\n",
      "[1714, '29-04-2022', 'TALLINN', '17/05/1990 man kaart...510006 KAUBAMAJA TALLINN/HARJUMAA, hand natural', '-1.79']\n"
     ]
    }
   ],
   "source": [
    "# Isegi pärast eelmise cell'i muudatusi on alles mõned duplicateid. Hetkel ei tea kuidas veel paremini neid filtreerida.\n",
    "\n",
    "def findMerchant(row, merchantList):\n",
    "    remittance_info = str(row[\"remittanceInfo\"]).upper()\n",
    "    for merchant in merchantList:\n",
    "        if merchant in remittance_info:\n",
    "            row[\"merchantName\"] = merchant\n",
    "            print(row.tolist())\n",
    "\n",
    "test_df = df.copy()\n",
    "\n",
    "counter = 0\n",
    "\n",
    "for idx, row in test_df.iterrows():\n",
    "    if pd.notnull(row[\"merchantName\"]):\n",
    "        findMerchant(row, merchantsFromDf)\n",
    "        counter += 1\n",
    "    if counter == 20:\n",
    "        break"
   ]
  },
  {
   "cell_type": "code",
   "execution_count": 13,
   "id": "be7e87dc-916f-49d0-afd3-9b92259aa694",
   "metadata": {},
   "outputs": [
    {
     "name": "stdout",
     "output_type": "stream",
     "text": [
      "0 ['567176******6366', 'toward', 'information', 'MAKSIMARKET', 'outside', 'VILJANDIMAA', '']\n",
      "1 ['157466******5153', 'pay', 'LIDL', 'own', 'TARTU', 'sound', 'behind', 'TARTUMAA', '', 'dinner']\n",
      "2 ['(..2754)', 'politics', 'garden', 'property', 'POHJAKESKUS', 'today', 'tee', 'minute', 'set', 'hand', 'every']\n",
      "3 ['24', '04', '1997', 'resource', 'kaart...878232', 'VILJANDI', 'MAKSIMARKET', 'VILJANDIMAA', '', 'EST', 'carry']\n",
      "4 ['14', '05', '1977', 'such', 'kaart...983921', 'less', 'OUe', 'Tallinn', 'EST', 'animal']\n",
      "5 ['Jou']\n",
      "6 ['551163******9009', 'which', 'ICA', 'AB', 'TARTU', 'LOUNAKESK', 'six', 'TARTUMAA', '', 'TAR']\n",
      "7 ['Kaart:411726******8003', 'human', 'seven', 'community', 'act', '-', 'Maxima', 'bank', '-', 'three', 'community']\n",
      "8 ['576266******5911', 'return', 'RIMI', 'TATARI', 'RIMI', 'ISETE', 'travel', 'TALLINN']\n",
      "9 ['368085******4980', 'difficult', 'act', 'KONSUM', 'ISETEENINDUSKESKVALJAK', '1KARDLA9']\n",
      "10 ['(..3385)', 'when', 'increase', 'security', 'H', '&', 'M', 'LOUNAKESKUS', 'least', 'arm', 'TARTU', 'LINN', 'tough', 'sea']\n",
      "11 ['29', '05', '1985', 'traditional', 'kaart...609240', 'huge', 'SELVERI', 'ISETEENI', 'TALLINN', 'EST', 'team']\n",
      "12 ['280753******0740', 'matter', 'view', 'DELICE', 'ISETEENINDURANDVERE', 'TEE', 'fly']\n",
      "13 ['(..9422)', 'see', 'cup', 'coach', 'require', 'general', 'at', 'data']\n",
      "14 ['146990******6058', 'light', 'IHASTE', 'KONSUM', 'marriage', 'TARTUMAA', '', 'buy']\n",
      "15 ['(..6392)', 'environmental', 'middle', 'financial', 'successful', 'Turu', 'little', '1Tallinn10412', 'even']\n",
      "16 ['even']\n",
      "17 ['(..1988)', 'short', 'simply', 'stand', 'SELVER', 'ISETEENINSOBRA', 'wrong', 'TARTU', 'LINN', 'animal', 'thought']\n",
      "18 ['23', '07', '1973', 'half', 'kaart...710047', 'RIMI', 'VILJANDI', 'director', 'RI', 'VILJANDIMAA', '', 'EST', 'go']\n",
      "19 ['804052******3166', 'nation', 'R-KIOSK', 'white', 'forget', 'reveal', 'TALLINN']\n",
      "20 ['Narvesen', 'garden']\n",
      "21 ['114088******7776', 'mind', 'ICA', 'paper', 'RIMI', 'H', 'else', 'TALLINN']\n",
      "22 ['650344******0573', 'do', 'ICA', 'six', 'RIMI', 'road', '64TALLINN10']\n",
      "23 ['328900******4997', 'door', 'together', 'SELVER', 'ISETEENI', 'lead', 'TARTU', 'LINN']\n",
      "24 ['05', '08', '1972', 'follow', 'kaart...826439', 'Prisma', 'Sikupilli', 'TALLINNA', 'EST', 'result']\n",
      "25 ['16', '02', '2013', 'now', 'kaart...990465', 'RISTI', 'KAUPLUS', 'RISTI', 'parent', 'hard']\n",
      "26 ['17', '04', '1980', 'like', 'kaart...929592', 'great', 'SELVERI', 'ISET', 'TALLINN', 'EST', 'issue']\n",
      "27 ['(..5005)', 'myself', 'example', 'REMA', 'response', 'nation', 'character', 'out', 'old', 'fight', 'about', 'one', 'per', 'thus', 'konverteerimistasu', 'whatever', 'science', 'think', 'move', 'condition', 'already', 'behavior', 'management', 'choice']\n",
      "28 ['230764******1689', 'low', 'KAUBAMAJA', 'TARTU', 'leader', 'TARTUMAA', '', 'TAR']\n",
      "29 ['01', '10', '2009', 'age', 'kaart...223453', 'good', 'RIMI', 'painting', 'ISETE', 'TALLINN', 'EST', 'including']\n",
      "30 ['04', '09', '2004', 'kitchen', 'kaart...153999', 'Prisma', 'Kristiine', 'Kesku', 'TALLINNA', 'EST', 'control']\n",
      "31 ['614921******6876', 'test', 'Prisma', 'Kristiine', 'Kesku', 'end', 'TALLINNA']\n",
      "32 ['(..0107)', 'late', 'paper', 'who', 'SELVER', 'onto', 'employee', 'TARTU', 'LINN', 'stand', 'crime']\n",
      "33 ['(..4984)', 'glass', 'nearly', 'today', 'Selver', 'street', 'Tallinn', 'scene', 'space']\n",
      "34 ['024896******6926', 'money', 'Prisma', 'eight', 'citizen', 'TALLINNA']\n",
      "35 ['(..6105)', 'its', 'walk', 'provide', 'SELVER', 'ISETEENIHAABNEEME', '', 'direction', 'TEE', 'change', 'power', 'VALD', 'ahead', 'instead']\n",
      "36 ['442106******7846', 'good', 'MAXIMA', 'NARVA', 'certain', 'place', 'behind', 'TARTU', 'LINN']\n",
      "37 ['(..6124)', 'seat', 'hope', '\"GROSSI', 'TOIDUKAUBAD\"', 'yes', 'TEE', 'include', 'LOO', 'owner', 'alone', 'exist']\n",
      "38 ['549703******0345', 'very', 'member', '\"GROSSI', 'TOIDUKAUBADPIIRI', 'decide']\n",
      "39 ['26', '10', '2005', 'both', 'kaart...455285', 'EEDENI', 'MAKSIMARKET', 'TARTU', 'especially', 'think']\n",
      "40 ['(..3744)', 'successful', 'name', 'road', 'SELVERI', 'ISETEENINUKSNURME', 'TEE', 'answer', 'ahead', 'ago', 'share', 'can']\n",
      "41 ['20', '10', '1996', 'sea', 'kaart...640384', 'man', 'SELVER', 'TARTU', 'summer', 'item']\n",
      "42 ['throughout', 'gas', 'human', 'who', 'happy']\n",
      "43 ['15', '04', '2016', 'way', 'kaart...002379', 'building', 'KAUBAMAJAHAAPSA', 'data']\n",
      "44 ['403028******3553', 'doctor', 'southern', 'KONSUMNABALA', 'TEE', 'drop']\n",
      "45 ['210729******0227', 'mean', 'her', 'book', 'hospital', 'POLVA', 'have']\n",
      "46 ['(..7434)', 'forward', 'light', 'collection', 'SELVERI', 'site', 'TEE', 'network', 'TALLINN', 'man', 'reality']\n",
      "47 ['672132******6033', 'name', 'some', 'AS', 'TEHASEPOOD', 'ago', 'TARTU']\n",
      "48 ['905621******2086', 'culture', 'opportunity', 'KONSUM', 'ISETEENIN', 'only', 'process', 'VALD']\n",
      "49 ['(..5400)', 'learn', 'live', 'EEDENI', 'MAKSIMARKET', 'point', 'TEE', 'enough', 'TARTU', 'LINN', 'ball', 'sign']\n",
      "50 ['038059******4436', 'town', 'Prisma', 'Rocca', 'al', 'Mare', 'relate', 'TALLINNA']\n",
      "51 ['874795******4330', 'represent', 'PAIDE', 'MAKSIMARKETRINGTEE', 'realize', 'determine']\n",
      "52 ['(..1160)', 'agent', 'fast', 'measure', 'RIMI', 'SM', 'ISETEENIE.VILDE', 'cost', 'include', 'minute', 'born']\n",
      "53 ['17', '05', '1990', 'man', 'kaart...510006', 'KAUBAMAJA', 'TALLINN', 'HARJUMAA', '', 'hand', 'natural']\n",
      "54 ['(..1465)', 'rock', 'that', 'herself', 'Selver', 'Tallinn', 'size', 'father']\n",
      "55 ['28', '04', '2006', 'agent', 'kaart...651751', 'K-market', 'benefit', 'model']\n",
      "56 ['(..1968)', 'growth', 'good', 'ASTANGU', 'RIMI', 'ASTANGU', 'answer', 'TALLINN', 'energy', 'music']\n",
      "57 ['(..5508)', 'threat', 'risk', 'movement', 'SELVER', 'NARVA', 'yet', 'myself', 'TALLINN', 'bar', 'much']\n",
      "58 ['(..9202)', 'responsibility', 'short', 'A1000MARKET', 'medical', 'TALLINN', 'that', 'religious']\n",
      "59 ['19', '03', '1997', 'for', 'kaart...574182', 'live', 'KONSUM', 'ULENURME', 'ask', 'dinner']\n",
      "60 ['13', '01', '1988', 'feel', 'kaart...345256', 'RIMI', 'SOPRUSE', 'RIMI', 'HM', 'TALLINN', 'EST', 'recently']\n",
      "61 ['03', '11', '2009', 'be', 'kaart...357489', 'his', 'KONSUM', 'ISETEENIND', 'JURI', 'exist', 'yeah']\n",
      "62 ['20', '05', '1999', 'former', 'kaart...564944', 'probably', 'SELVERI', 'ISETEENI', 'TALLINN', 'EST', 'cover']\n",
      "63 ['(..0935)', 'surface', 'huge', 'performance', 'KONSUM', 'hear', 'executive', 'TARTUMAA', '', 'consider', 'must']\n",
      "64 ['(..0086)', 'consumer', 'respond', 'OU', 'game', 'TURU', 'business', 'race', 'case', 'smile', 'office']\n",
      "65 ['109784******9822', 'paper', 'MAXIMA', 'coach', 'TEE', 'much', 'church', 'kitchen', 'TAL']\n",
      "66 ['25', '09', '2008', 'turn', 'kaart...430729', 'VORSTIABI', 'TALLINN', 'EST', 'his']\n",
      "67 ['464157******2078', 'official', 'GROSSI', 'TOIDUKAUBAD', 'back', 'religious']\n",
      "68 ['11', '01', '1986', 'sport', 'kaart...266732', 'RIMI', 'HIIU', 'RIMI', 'SM', 'toward', 'election', 'whose']\n",
      "69 ['(..8478)', 'in', 'history', 'RIMI', 'TELLISKIVI', 'RIMI', 'color', 'source', 'TALLINN', 'affect', 'contain']\n",
      "70 ['21', '07', '1970', 'common', 'kaart...113982', 'PAIDE', 'MAKSIMARKET', 'JARVAMAA', '', 'cause', 'beautiful']\n",
      "71 ['09', '08', '1979', 'pull', 'kaart...690662', 'campaign', 'Selver', 'Tallinn', 'EST', 'work']\n",
      "72 ['(..5596)', 'than', 'where', 'WWW.RIMI.EE', 'EPOOD', 'put', 'TEE', 'hour', 'money', 'participant', 'perform']\n",
      "73 ['(..4186)', 'clearly', 'example', 'Maxima', 'EET580TURU', 'state', '14TARTUUNKNOWN', 'EST']\n",
      "74 ['06', '08', '1973', 'cut', 'kaart...112792', 'ICA', 'wrong', 'RIMI', 'conference', 'VALD', 'EST', 'sure']\n",
      "75 ['hospital', 'thought', 'soldier', 'use', 'Mrs', 'statement', 'capital', 'feel', 'KONSUM', 'smile', 'hospital', 'song', 'later', 'choice', 'phone']\n",
      "76 ['25', '05', '1975', 'herself', 'kaart...589093', 'term', 'KONSUM', 'TARTUMAA', '', 'degree', 'society']\n",
      "77 ['283174******5613', 'million', 'activity', 'RIMI', 'ISETEENINDUSTORREMAE', 'subject']\n",
      "78 ['06', '06', '2022', 'eye', 'kaart...627909', 'gun', 'response', 'SELVERI', 'away', 'in', 'loss']\n",
      "79 ['206070******9965', 'find', 'EEDENI', 'MAKSIMARKETKALDA', 'TEE', '1CTARTU', 'keep']\n",
      "80 ['680506******0150', 'give', 'material', 'Selver', 'ready', 'tree', 'Tallinn']\n",
      "81 ['18', '03', '1987', 'yourself', 'kaart...713111', 'dog', 'SELVER', 'ISETEENINDUS', 'TALLINN', 'EST', 'class']\n",
      "82 ['(..8540)', 'girl', 'morning', 'KURESSAARE', 'MAXIMA', 'PAKITALLINNA', '64KURESSAARE93818', 'EST']\n",
      "83 ['(..9402)', 'necessary', 'court', 'war', 'myself', 'almost', 'at', 'family', 'PM', 'note', 'particularly']\n",
      "84 ['(..0445)', 'tough', 'party', 'Prisma', 'happy', '4TALLINNA12918', 'five']\n",
      "85 ['Ica', 'church', 'Rimi', 'against']\n",
      "86 ['22', '03', '2011', 'anyone', 'kaart...535267', 'like', 'RIMI', 'ISETEENIN', 'LAANE-VIRUMAA', 'EST', 'marriage']\n",
      "87 ['935713******0734', 'pattern', 'here', 'development', 'TALLINN']\n",
      "88 ['091309******1073', 'attorney', 'past', 'party', 'road', 'catch', 'TALLINN']\n",
      "89 ['(..7416)', 'me', 'grow', 'Maxima', 'EET560TALLINNA', '64KURESSAAREUNKNOWN', 'EST']\n",
      "90 ['02', '10', '2005', 'control', 'kaart...166693', 'whom', 'POOD', 'AUDRU', 'market', 'my']\n",
      "91 ['(..3981)', 'significant', 'tell', 'wall', 'SELVER', 'NARVA', 'today', 'financial', 'TALLINN', 'owner', 'cause']\n",
      "92 ['429342******3598', 'wind', 'selver.ee', 'its', 'Tallinn']\n",
      "93 ['full', 'charge', 'character', 'well', 'laugh', 'me', 'all', 'federal', 'A', 'JA', 'O', 'skill', 'condition', 'certainly', 'general', 'Mr', 'author']\n",
      "94 ['230368******9254', 'prevent', 'food', 'SELVERI', 'ISET', 'maintain', 'TALLINN']\n",
      "95 ['10', '01', '1995', 'paper', 'kaart...359603', 'JARVE', 'SELVERI', 'ISETEENI', 'TALLINN', 'EST', 'former']\n",
      "96 ['21', '05', '2022', 'scientist', 'kaart...873467', 'PLUS', 'involve', 'wife', 'race', 'beautiful']\n",
      "97 ['02', '07', '1989', 'value', 'kaart...752516', 'garden', 'KONSUM', 'TORI', 'VALD', 'EST', 'learn']\n",
      "98 ['17', '01', '2002', 'toward', 'kaart...259800', 'upon', 'SELVER', 'TALLINN', 'EST', 'short']\n",
      "99 ['(..5008)', 'sea', 'energy', 'RIMI', 'TOOSTUSE', 'RIMI', 'treat', 'give', 'so', 'boy', 'identify']\n"
     ]
    }
   ],
   "source": [
    "# Parem versioon sellest, kuidas splittida merchantInfot. Splitib \" \", \",\" ja \"/\" põhjal.\n",
    "\n",
    "import re\n",
    "\n",
    "for index, row in df.iterrows():\n",
    "    if pd.notnull(row[\"remittanceInfo\"]) and isinstance(row[\"remittanceInfo\"], str) and len(row[\"remittanceInfo\"]) >= 1:\n",
    "        listina = re.split(r'[ ,/]', row[\"remittanceInfo\"])\n",
    "        if index <= 99:\n",
    "            print(index, listina)\n",
    "#ei saa aru miks see parem on -Tamm"
   ]
  }
 ],
 "metadata": {
  "kernelspec": {
   "display_name": "Python 3 (ipykernel)",
   "language": "python",
   "name": "python3"
  },
  "language_info": {
   "codemirror_mode": {
    "name": "ipython",
    "version": 3
   },
   "file_extension": ".py",
   "mimetype": "text/x-python",
   "name": "python",
   "nbconvert_exporter": "python",
   "pygments_lexer": "ipython3",
   "version": "3.10.0"
  }
 },
 "nbformat": 4,
 "nbformat_minor": 5
}
